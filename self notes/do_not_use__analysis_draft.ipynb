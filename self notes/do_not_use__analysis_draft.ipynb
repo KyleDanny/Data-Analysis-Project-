{
 "cells": [
  {
   "cell_type": "markdown",
   "metadata": {},
   "source": [
    "Project Analysis"
   ]
  },
  {
   "cell_type": "code",
   "execution_count": 118,
   "metadata": {},
   "outputs": [],
   "source": [
    "import numpy as np\n",
    "import pandas as pd\n",
    "import matplotlib.pyplot as plt\n",
    "import seaborn as sns\n",
    "\n",
    "%matplotlib inline\n",
    "\n",
    "plt.style.use('seaborn-v0_8-whitegrid')\n"
   ]
  },
  {
   "cell_type": "code",
   "execution_count": 119,
   "metadata": {},
   "outputs": [],
   "source": [
    "# Load the dataset\n",
    "df = pd.read_excel('data1.xlsx')  # Replace 'your_file.xlsx' with the actual file name"
   ]
  },
  {
   "cell_type": "markdown",
   "metadata": {},
   "source": [
    "NOTE to self: \n",
    "\n",
    "family = categorical variable: scale 1 = yes, scale 2 = no\n",
    "\n",
    "years_of_service = numerical variable: years\n",
    "\n",
    "sat_variables: scale 1 - 5, 1 = very unsatisfied, 5 = very satisfied"
   ]
  },
  {
   "cell_type": "code",
   "execution_count": 120,
   "metadata": {},
   "outputs": [
    {
     "data": {
      "text/html": [
       "<div>\n",
       "<style scoped>\n",
       "    .dataframe tbody tr th:only-of-type {\n",
       "        vertical-align: middle;\n",
       "    }\n",
       "\n",
       "    .dataframe tbody tr th {\n",
       "        vertical-align: top;\n",
       "    }\n",
       "\n",
       "    .dataframe thead th {\n",
       "        text-align: right;\n",
       "    }\n",
       "</style>\n",
       "<table border=\"1\" class=\"dataframe\">\n",
       "  <thead>\n",
       "    <tr style=\"text-align: right;\">\n",
       "      <th></th>\n",
       "      <th>index</th>\n",
       "      <th>family</th>\n",
       "      <th>years of service</th>\n",
       "      <th>management</th>\n",
       "      <th>colleagues</th>\n",
       "      <th>working environment</th>\n",
       "      <th>salary sat</th>\n",
       "      <th>work roles</th>\n",
       "    </tr>\n",
       "  </thead>\n",
       "  <tbody>\n",
       "    <tr>\n",
       "      <th>0</th>\n",
       "      <td>1</td>\n",
       "      <td>1</td>\n",
       "      <td>22.0</td>\n",
       "      <td>3</td>\n",
       "      <td>3.0</td>\n",
       "      <td>3</td>\n",
       "      <td>3</td>\n",
       "      <td>3</td>\n",
       "    </tr>\n",
       "    <tr>\n",
       "      <th>1</th>\n",
       "      <td>2</td>\n",
       "      <td>2</td>\n",
       "      <td>10.0</td>\n",
       "      <td>1</td>\n",
       "      <td>5.0</td>\n",
       "      <td>2</td>\n",
       "      <td>1</td>\n",
       "      <td>3</td>\n",
       "    </tr>\n",
       "    <tr>\n",
       "      <th>2</th>\n",
       "      <td>3</td>\n",
       "      <td>1</td>\n",
       "      <td>7.0</td>\n",
       "      <td>3</td>\n",
       "      <td>4.0</td>\n",
       "      <td>1</td>\n",
       "      <td>1</td>\n",
       "      <td>3</td>\n",
       "    </tr>\n",
       "    <tr>\n",
       "      <th>3</th>\n",
       "      <td>4</td>\n",
       "      <td>2</td>\n",
       "      <td>14.0</td>\n",
       "      <td>3</td>\n",
       "      <td>3.0</td>\n",
       "      <td>3</td>\n",
       "      <td>3</td>\n",
       "      <td>3</td>\n",
       "    </tr>\n",
       "    <tr>\n",
       "      <th>4</th>\n",
       "      <td>5</td>\n",
       "      <td>1</td>\n",
       "      <td>4.0</td>\n",
       "      <td>2</td>\n",
       "      <td>3.0</td>\n",
       "      <td>2</td>\n",
       "      <td>1</td>\n",
       "      <td>2</td>\n",
       "    </tr>\n",
       "  </tbody>\n",
       "</table>\n",
       "</div>"
      ],
      "text/plain": [
       "   index  family  years of service  management  colleagues  \\\n",
       "0      1       1              22.0           3         3.0   \n",
       "1      2       2              10.0           1         5.0   \n",
       "2      3       1               7.0           3         4.0   \n",
       "3      4       2              14.0           3         3.0   \n",
       "4      5       1               4.0           2         3.0   \n",
       "\n",
       "   working environment  salary sat  work roles  \n",
       "0                    3           3           3  \n",
       "1                    2           1           3  \n",
       "2                    1           1           3  \n",
       "3                    3           3           3  \n",
       "4                    2           1           2  "
      ]
     },
     "execution_count": 120,
     "metadata": {},
     "output_type": "execute_result"
    }
   ],
   "source": [
    "df.head()"
   ]
  },
  {
   "cell_type": "code",
   "execution_count": 121,
   "metadata": {},
   "outputs": [
    {
     "name": "stdout",
     "output_type": "stream",
     "text": [
      "<class 'pandas.core.frame.DataFrame'>\n",
      "RangeIndex: 82 entries, 0 to 81\n",
      "Data columns (total 8 columns):\n",
      " #   Column               Non-Null Count  Dtype  \n",
      "---  ------               --------------  -----  \n",
      " 0   index                82 non-null     int64  \n",
      " 1   family               82 non-null     int64  \n",
      " 2   years of service     80 non-null     float64\n",
      " 3   management           82 non-null     int64  \n",
      " 4   colleagues           81 non-null     float64\n",
      " 5   working environment  82 non-null     int64  \n",
      " 6   salary sat           82 non-null     int64  \n",
      " 7   work roles           82 non-null     int64  \n",
      "dtypes: float64(2), int64(6)\n",
      "memory usage: 5.3 KB\n"
     ]
    }
   ],
   "source": [
    "df.info()\n"
   ]
  },
  {
   "cell_type": "code",
   "execution_count": 122,
   "metadata": {},
   "outputs": [
    {
     "data": {
      "text/plain": [
       "index                  0\n",
       "family                 0\n",
       "years of service       2\n",
       "management             0\n",
       "colleagues             1\n",
       "working environment    0\n",
       "salary sat             0\n",
       "work roles             0\n",
       "dtype: int64"
      ]
     },
     "execution_count": 122,
     "metadata": {},
     "output_type": "execute_result"
    }
   ],
   "source": [
    "df.isnull().sum()"
   ]
  },
  {
   "cell_type": "code",
   "execution_count": 123,
   "metadata": {},
   "outputs": [],
   "source": [
    "df.columns = ['id', 'family', 'years_of_service', 'sat_management', 'sat_colleagues', 'sat_work_env', 'sat_salary', 'sat_work_role']"
   ]
  },
  {
   "cell_type": "code",
   "execution_count": 124,
   "metadata": {},
   "outputs": [
    {
     "data": {
      "text/html": [
       "<div>\n",
       "<style scoped>\n",
       "    .dataframe tbody tr th:only-of-type {\n",
       "        vertical-align: middle;\n",
       "    }\n",
       "\n",
       "    .dataframe tbody tr th {\n",
       "        vertical-align: top;\n",
       "    }\n",
       "\n",
       "    .dataframe thead th {\n",
       "        text-align: right;\n",
       "    }\n",
       "</style>\n",
       "<table border=\"1\" class=\"dataframe\">\n",
       "  <thead>\n",
       "    <tr style=\"text-align: right;\">\n",
       "      <th></th>\n",
       "      <th>family</th>\n",
       "      <th>years_of_service</th>\n",
       "      <th>sat_management</th>\n",
       "      <th>sat_colleagues</th>\n",
       "      <th>sat_work_env</th>\n",
       "      <th>sat_salary</th>\n",
       "      <th>sat_work_role</th>\n",
       "    </tr>\n",
       "  </thead>\n",
       "  <tbody>\n",
       "    <tr>\n",
       "      <th>0</th>\n",
       "      <td>1</td>\n",
       "      <td>22.0</td>\n",
       "      <td>3</td>\n",
       "      <td>3.0</td>\n",
       "      <td>3</td>\n",
       "      <td>3</td>\n",
       "      <td>3</td>\n",
       "    </tr>\n",
       "    <tr>\n",
       "      <th>1</th>\n",
       "      <td>2</td>\n",
       "      <td>10.0</td>\n",
       "      <td>1</td>\n",
       "      <td>5.0</td>\n",
       "      <td>2</td>\n",
       "      <td>1</td>\n",
       "      <td>3</td>\n",
       "    </tr>\n",
       "    <tr>\n",
       "      <th>2</th>\n",
       "      <td>1</td>\n",
       "      <td>7.0</td>\n",
       "      <td>3</td>\n",
       "      <td>4.0</td>\n",
       "      <td>1</td>\n",
       "      <td>1</td>\n",
       "      <td>3</td>\n",
       "    </tr>\n",
       "    <tr>\n",
       "      <th>3</th>\n",
       "      <td>2</td>\n",
       "      <td>14.0</td>\n",
       "      <td>3</td>\n",
       "      <td>3.0</td>\n",
       "      <td>3</td>\n",
       "      <td>3</td>\n",
       "      <td>3</td>\n",
       "    </tr>\n",
       "    <tr>\n",
       "      <th>4</th>\n",
       "      <td>1</td>\n",
       "      <td>4.0</td>\n",
       "      <td>2</td>\n",
       "      <td>3.0</td>\n",
       "      <td>2</td>\n",
       "      <td>1</td>\n",
       "      <td>2</td>\n",
       "    </tr>\n",
       "  </tbody>\n",
       "</table>\n",
       "</div>"
      ],
      "text/plain": [
       "   family  years_of_service  sat_management  sat_colleagues  sat_work_env  \\\n",
       "0       1              22.0               3             3.0             3   \n",
       "1       2              10.0               1             5.0             2   \n",
       "2       1               7.0               3             4.0             1   \n",
       "3       2              14.0               3             3.0             3   \n",
       "4       1               4.0               2             3.0             2   \n",
       "\n",
       "   sat_salary  sat_work_role  \n",
       "0           3              3  \n",
       "1           1              3  \n",
       "2           1              3  \n",
       "3           3              3  \n",
       "4           1              2  "
      ]
     },
     "execution_count": 124,
     "metadata": {},
     "output_type": "execute_result"
    }
   ],
   "source": [
    "df=df.drop(['id'], axis=1)\n",
    "df.head()"
   ]
  },
  {
   "cell_type": "code",
   "execution_count": 125,
   "metadata": {},
   "outputs": [
    {
     "name": "stdout",
     "output_type": "stream",
     "text": [
      "<class 'pandas.core.frame.DataFrame'>\n",
      "RangeIndex: 82 entries, 0 to 81\n",
      "Data columns (total 7 columns):\n",
      " #   Column            Non-Null Count  Dtype  \n",
      "---  ------            --------------  -----  \n",
      " 0   family            82 non-null     int64  \n",
      " 1   years_of_service  80 non-null     float64\n",
      " 2   sat_management    82 non-null     int64  \n",
      " 3   sat_colleagues    81 non-null     float64\n",
      " 4   sat_work_env      82 non-null     int64  \n",
      " 5   sat_salary        82 non-null     int64  \n",
      " 6   sat_work_role     82 non-null     int64  \n",
      "dtypes: float64(2), int64(5)\n",
      "memory usage: 4.6 KB\n"
     ]
    }
   ],
   "source": [
    "df.info()"
   ]
  },
  {
   "cell_type": "code",
   "execution_count": 126,
   "metadata": {},
   "outputs": [
    {
     "data": {
      "text/html": [
       "<div>\n",
       "<style scoped>\n",
       "    .dataframe tbody tr th:only-of-type {\n",
       "        vertical-align: middle;\n",
       "    }\n",
       "\n",
       "    .dataframe tbody tr th {\n",
       "        vertical-align: top;\n",
       "    }\n",
       "\n",
       "    .dataframe thead th {\n",
       "        text-align: right;\n",
       "    }\n",
       "</style>\n",
       "<table border=\"1\" class=\"dataframe\">\n",
       "  <thead>\n",
       "    <tr style=\"text-align: right;\">\n",
       "      <th></th>\n",
       "      <th>family</th>\n",
       "      <th>years_of_service</th>\n",
       "      <th>sat_management</th>\n",
       "      <th>sat_colleagues</th>\n",
       "      <th>sat_work_env</th>\n",
       "      <th>sat_salary</th>\n",
       "      <th>sat_work_role</th>\n",
       "    </tr>\n",
       "  </thead>\n",
       "  <tbody>\n",
       "    <tr>\n",
       "      <th>count</th>\n",
       "      <td>82.000000</td>\n",
       "      <td>80.000000</td>\n",
       "      <td>82.000000</td>\n",
       "      <td>81.000000</td>\n",
       "      <td>82.000000</td>\n",
       "      <td>82.000000</td>\n",
       "      <td>82.000000</td>\n",
       "    </tr>\n",
       "    <tr>\n",
       "      <th>mean</th>\n",
       "      <td>1.621951</td>\n",
       "      <td>12.175000</td>\n",
       "      <td>3.060976</td>\n",
       "      <td>4.061728</td>\n",
       "      <td>3.219512</td>\n",
       "      <td>2.109756</td>\n",
       "      <td>3.195122</td>\n",
       "    </tr>\n",
       "    <tr>\n",
       "      <th>std</th>\n",
       "      <td>0.487884</td>\n",
       "      <td>8.807038</td>\n",
       "      <td>1.058155</td>\n",
       "      <td>0.826826</td>\n",
       "      <td>1.154961</td>\n",
       "      <td>1.111179</td>\n",
       "      <td>1.047502</td>\n",
       "    </tr>\n",
       "    <tr>\n",
       "      <th>min</th>\n",
       "      <td>1.000000</td>\n",
       "      <td>0.000000</td>\n",
       "      <td>1.000000</td>\n",
       "      <td>2.000000</td>\n",
       "      <td>1.000000</td>\n",
       "      <td>1.000000</td>\n",
       "      <td>1.000000</td>\n",
       "    </tr>\n",
       "    <tr>\n",
       "      <th>25%</th>\n",
       "      <td>1.000000</td>\n",
       "      <td>3.750000</td>\n",
       "      <td>2.000000</td>\n",
       "      <td>4.000000</td>\n",
       "      <td>3.000000</td>\n",
       "      <td>1.000000</td>\n",
       "      <td>3.000000</td>\n",
       "    </tr>\n",
       "    <tr>\n",
       "      <th>50%</th>\n",
       "      <td>2.000000</td>\n",
       "      <td>12.500000</td>\n",
       "      <td>3.000000</td>\n",
       "      <td>4.000000</td>\n",
       "      <td>3.000000</td>\n",
       "      <td>2.000000</td>\n",
       "      <td>3.000000</td>\n",
       "    </tr>\n",
       "    <tr>\n",
       "      <th>75%</th>\n",
       "      <td>2.000000</td>\n",
       "      <td>18.250000</td>\n",
       "      <td>4.000000</td>\n",
       "      <td>5.000000</td>\n",
       "      <td>4.000000</td>\n",
       "      <td>3.000000</td>\n",
       "      <td>4.000000</td>\n",
       "    </tr>\n",
       "    <tr>\n",
       "      <th>max</th>\n",
       "      <td>2.000000</td>\n",
       "      <td>36.000000</td>\n",
       "      <td>5.000000</td>\n",
       "      <td>5.000000</td>\n",
       "      <td>5.000000</td>\n",
       "      <td>5.000000</td>\n",
       "      <td>5.000000</td>\n",
       "    </tr>\n",
       "  </tbody>\n",
       "</table>\n",
       "</div>"
      ],
      "text/plain": [
       "          family  years_of_service  sat_management  sat_colleagues  \\\n",
       "count  82.000000         80.000000       82.000000       81.000000   \n",
       "mean    1.621951         12.175000        3.060976        4.061728   \n",
       "std     0.487884          8.807038        1.058155        0.826826   \n",
       "min     1.000000          0.000000        1.000000        2.000000   \n",
       "25%     1.000000          3.750000        2.000000        4.000000   \n",
       "50%     2.000000         12.500000        3.000000        4.000000   \n",
       "75%     2.000000         18.250000        4.000000        5.000000   \n",
       "max     2.000000         36.000000        5.000000        5.000000   \n",
       "\n",
       "       sat_work_env  sat_salary  sat_work_role  \n",
       "count     82.000000   82.000000      82.000000  \n",
       "mean       3.219512    2.109756       3.195122  \n",
       "std        1.154961    1.111179       1.047502  \n",
       "min        1.000000    1.000000       1.000000  \n",
       "25%        3.000000    1.000000       3.000000  \n",
       "50%        3.000000    2.000000       3.000000  \n",
       "75%        4.000000    3.000000       4.000000  \n",
       "max        5.000000    5.000000       5.000000  "
      ]
     },
     "execution_count": 126,
     "metadata": {},
     "output_type": "execute_result"
    }
   ],
   "source": [
    "df.describe()"
   ]
  },
  {
   "cell_type": "markdown",
   "metadata": {},
   "source": [
    " BACKGROUND VARIABLES: "
   ]
  },
  {
   "cell_type": "markdown",
   "metadata": {},
   "source": [
    " Family (Categorical Variable)\n",
    " \n",
    " Description: This variable indicates whether an employee is part of a family (1 = Yes, 2 = No)"
   ]
  },
  {
   "cell_type": "markdown",
   "metadata": {},
   "source": [
    "Frequency Distribution: Count how many employees are part of a family vs. not.\n",
    "\n"
   ]
  },
  {
   "cell_type": "code",
   "execution_count": 127,
   "metadata": {},
   "outputs": [
    {
     "data": {
      "text/plain": [
       "family\n",
       "2    51\n",
       "1    31\n",
       "Name: count, dtype: int64"
      ]
     },
     "execution_count": 127,
     "metadata": {},
     "output_type": "execute_result"
    }
   ],
   "source": [
    "df['family'].value_counts()\n"
   ]
  },
  {
   "cell_type": "code",
   "execution_count": 128,
   "metadata": {},
   "outputs": [
    {
     "data": {
      "image/png": "[encoded data removed]",
      "text/plain": [
       "<Figure size 640x480 with 1 Axes>"
      ]
     },
     "metadata": {},
     "output_type": "display_data"
    }
   ],
   "source": [
    "df['family'].value_counts().plot(kind='bar', title='Family Status Distribution')\n",
    "plt.xlabel('Family Status (1 = Yes, 2 = No)')\n",
    "plt.ylabel('Count')\n",
    "plt.show()"
   ]
  },
  {
   "cell_type": "markdown",
   "metadata": {},
   "source": [
    "Compare average satisfaction scores (sat_management) between employees who are part of a family and those who are not."
   ]
  },
  {
   "cell_type": "code",
   "execution_count": null,
   "metadata": {},
   "outputs": [],
   "source": [
    "df.groupby('family')['sat_management'].mean().plot(kind='bar')\n",
    "plt.title('Average Satisfaction with Management by Family Status')\n",
    "plt.xlabel('Family Status (1 = Yes, 2 = No)')\n",
    "plt.ylabel('Average Satisfaction Score')\n",
    "plt.show()"
   ]
  },
  {
   "cell_type": "markdown",
   "metadata": {},
   "source": [
    "Compare average satisfaction scores (sat_colleagues) between employees who are part of a family and those who are not."
   ]
  },
  {
   "cell_type": "code",
   "execution_count": null,
   "metadata": {},
   "outputs": [],
   "source": [
    "df.groupby('family')['sat_colleagues'].mean().plot(kind='bar')\n",
    "plt.title('Average Satisfaction with Colleagues by Family Status')\n",
    "plt.xlabel('Family Status (1 = Yes, 2 = No)')\n",
    "plt.ylabel('Average Satisfaction Score')\n",
    "plt.show()\n",
    "\n"
   ]
  },
  {
   "cell_type": "markdown",
   "metadata": {},
   "source": [
    "Years of Service (Numerical Variable)\n",
    "\n",
    "Description: This variable represents the number of years an employee has worked at the company."
   ]
  },
  {
   "cell_type": "code",
   "execution_count": null,
   "metadata": {},
   "outputs": [],
   "source": [
    "df['years_of_service'].describe()\n"
   ]
  },
  {
   "cell_type": "markdown",
   "metadata": {},
   "source": [
    "Distribution: Visualize the distribution of years of service using a histogram or box plot.\n",
    "\n"
   ]
  },
  {
   "cell_type": "code",
   "execution_count": null,
   "metadata": {},
   "outputs": [],
   "source": [
    "plt.hist(df['years_of_service'], bins=10)\n",
    "plt.title('Distribution of Years of Service')\n",
    "plt.xlabel('Years of Service')\n",
    "plt.ylabel('Frequency')\n",
    "plt.show()"
   ]
  },
  {
   "cell_type": "markdown",
   "metadata": {},
   "source": [
    "Check if there’s a relationship between years of service and satisfaction scores (e.g., do employees with more years of service tend to be more satisfied?)"
   ]
  },
  {
   "cell_type": "code",
   "execution_count": null,
   "metadata": {},
   "outputs": [],
   "source": [
    "plt.scatter(df['years_of_service'], df['sat_management'])\n",
    "plt.title('Years of Service vs. Satisfaction with Management')\n",
    "plt.xlabel('Years of Service')\n",
    "plt.ylabel('Satisfaction with Management')\n",
    "plt.show()"
   ]
  },
  {
   "cell_type": "markdown",
   "metadata": {},
   "source": [
    "Satisfaction Variables (Numerical Variables, Scale 1–5)\n",
    "\n",
    "Description: These variables measure employee satisfaction in different areas (management, colleagues, work environment, salary, and work role).\n",
    "\n",
    "Possible Analyses:\n",
    "\n",
    "Summary Statistics: Calculate mean, median, and standard deviation for each satisfaction variable."
   ]
  },
  {
   "cell_type": "code",
   "execution_count": null,
   "metadata": {},
   "outputs": [],
   "source": [
    "satisfaction_columns = ['sat_management', 'sat_colleagues', 'sat_work_env', 'sat_salary', 'sat_work_role']\n",
    "df[satisfaction_columns].describe()"
   ]
  },
  {
   "cell_type": "code",
   "execution_count": null,
   "metadata": {},
   "outputs": [],
   "source": [
    "for col in satisfaction_columns:\n",
    "    plt.hist(df[col], bins=5, range=(1, 6))\n",
    "    plt.title(f'Distribution of {col}')\n",
    "    plt.xlabel('Satisfaction Score')\n",
    "    plt.ylabel('Frequency')\n",
    "    plt.show()"
   ]
  },
  {
   "cell_type": "markdown",
   "metadata": {},
   "source": [
    "Check if satisfaction in one area (e.g., management) is related to satisfaction in another area (e.g., salary).\n",
    "\n"
   ]
  },
  {
   "cell_type": "code",
   "execution_count": 129,
   "metadata": {},
   "outputs": [
    {
     "data": {
      "image/png": "[encoded data removed]",
      "text/plain": [
       "<Figure size 640x480 with 2 Axes>"
      ]
     },
     "metadata": {},
     "output_type": "display_data"
    }
   ],
   "source": [
    "import seaborn as sns\n",
    "sns.heatmap(df[satisfaction_columns].corr(), annot=True, cmap='coolwarm')\n",
    "plt.title('Correlation Between Satisfaction Variables')\n",
    "plt.show()"
   ]
  },
  {
   "cell_type": "markdown",
   "metadata": {},
   "source": [
    "Compare average satisfaction scores between employees who are part of a family and those who are not.\n",
    "\n"
   ]
  },
  {
   "cell_type": "code",
   "execution_count": null,
   "metadata": {},
   "outputs": [],
   "source": [
    "for col in satisfaction_columns:\n",
    "    df.groupby('family')[col].mean().plot(kind='bar')\n",
    "    plt.title(f'Average {col} by Family Status')\n",
    "    plt.xlabel('Family Status (1 = Yes, 2 = No)')\n",
    "    plt.ylabel('Average Satisfaction Score')\n",
    "    plt.show()"
   ]
  },
  {
   "cell_type": "markdown",
   "metadata": {},
   "source": [
    "Group employees by years of service (e.g., 0–5 years, 5–10 years, etc.) and compare their average satisfaction scores."
   ]
  },
  {
   "cell_type": "code",
   "execution_count": null,
   "metadata": {},
   "outputs": [],
   "source": [
    "df['service_group'] = pd.cut(df['years_of_service'], bins=[0, 5, 10, 15, 20], labels=['0-5', '5-10', '10-15', '15-20'])\n",
    "for col in satisfaction_columns:\n",
    "    df.groupby('service_group', observed=False)[col].mean().plot(kind='bar')\n",
    "    plt.title(f'Average {col} by Years of Service Group')\n",
    "    plt.xlabel('Years of Service Group')\n",
    "    plt.ylabel('Average Satisfaction Score')\n",
    "    plt.show()"
   ]
  },
  {
   "cell_type": "code",
   "execution_count": null,
   "metadata": {},
   "outputs": [],
   "source": [
    "df['service_group'] = pd.cut(df['years_of_service'], bins=[0, 5, 10, 15, 20], labels=['0-5', '5-10', '10-15', '15-20'])\n",
    "for col in satisfaction_columns:\n",
    "    df.groupby('service_group', observed=False)[col].mean().plot(kind='bar')\n",
    "    plt.title(f'Average {col} by Years of Service Group')\n",
    "    plt.xlabel('Years of Service Group')\n",
    "    plt.ylabel('Average Satisfaction Score')\n",
    "    plt.show()"
   ]
  },
  {
   "cell_type": "markdown",
   "metadata": {},
   "source": [
    "Combined Analysis"
   ]
  },
  {
   "cell_type": "markdown",
   "metadata": {},
   "source": [
    "Analyzing Dependency Between family and years_of_service\n",
    "\n",
    "First, let’s calculate summary statistics for years_of_service grouped by family:\n",
    "\n"
   ]
  },
  {
   "cell_type": "code",
   "execution_count": null,
   "metadata": {},
   "outputs": [],
   "source": [
    "df.groupby('family')['years_of_service'].describe()\n"
   ]
  },
  {
   "cell_type": "markdown",
   "metadata": {},
   "source": [
    "A box plot is great for comparing the distribution of a numerical variable (years_of_service) across categories of a categorical variable (family)."
   ]
  },
  {
   "cell_type": "code",
   "execution_count": null,
   "metadata": {},
   "outputs": [],
   "source": [
    "import seaborn as sns\n",
    "\n",
    "sns.boxplot(x='family', y='years_of_service', data=df)\n",
    "plt.title('Years of Service by Family Status')\n",
    "plt.xlabel('Family Status (1 = Yes, 2 = No)')\n",
    "plt.ylabel('Years of Service')\n",
    "plt.show()"
   ]
  },
  {
   "cell_type": "code",
   "execution_count": null,
   "metadata": {},
   "outputs": [],
   "source": [
    "sns.violinplot(x='family', y='years_of_service', data=df)\n",
    "plt.title('Years of Service by Family Status')\n",
    "plt.xlabel('Family Status (1 = Yes, 2 = No)')\n",
    "plt.ylabel('Years of Service')\n",
    "plt.show()"
   ]
  },
  {
   "cell_type": "code",
   "execution_count": null,
   "metadata": {},
   "outputs": [],
   "source": [
    "df[df['family'] == 1]['years_of_service'].hist(bins=10, alpha=0.5, label='Family = Yes')\n",
    "df[df['family'] == 2]['years_of_service'].hist(bins=10, alpha=0.5, label='Family = No')\n",
    "plt.title('Years of Service by Family Status')\n",
    "plt.xlabel('Years of Service')\n",
    "plt.ylabel('Frequency')\n",
    "plt.legend()\n",
    "plt.show()"
   ]
  },
  {
   "cell_type": "markdown",
   "metadata": {},
   "source": [
    "Family Status and Years of Service:\n",
    "\n",
    "Analyze how family status and years of service interact to affect satisfaction scores."
   ]
  },
  {
   "cell_type": "code",
   "execution_count": null,
   "metadata": {},
   "outputs": [],
   "source": [
    "df.groupby(['family', 'service_group'], observed=False)['sat_management'].mean().unstack().plot(kind='bar')\n",
    "plt.title('Average Satisfaction with Management by Family Status and Years of Service Group')\n",
    "plt.xlabel('Family Status (1 = Yes, 2 = No)')\n",
    "plt.ylabel('Average Satisfaction Score')\n",
    "plt.show()"
   ]
  },
  {
   "cell_type": "markdown",
   "metadata": {},
   "source": [
    "Overall Satisfaction Trends:\n",
    "\n",
    "Calculate an overall satisfaction score by averaging all sat_ variables and analyze trends based on family status and years of service."
   ]
  },
  {
   "cell_type": "code",
   "execution_count": null,
   "metadata": {},
   "outputs": [],
   "source": [
    "df['overall_satisfaction'] = df[satisfaction_columns].mean(axis=1)\n",
    "df.groupby('family')['overall_satisfaction'].mean().plot(kind='bar')\n",
    "plt.title('Overall Satisfaction by Family Status')\n",
    "plt.xlabel('Family Status (1 = Yes, 2 = No)')\n",
    "plt.ylabel('Average Overall Satisfaction Score')\n",
    "plt.show()"
   ]
  },
  {
   "cell_type": "markdown",
   "metadata": {},
   "source": [
    "Summary of Key Questions to Explore\n",
    "Family Status:\n",
    "\n",
    "Are employees with families more or less satisfied than those without families?\n",
    "\n",
    "Years of Service:\n",
    "\n",
    "Do employees with more years of service have higher or lower satisfaction?\n",
    "\n",
    "Satisfaction Variables:\n",
    "\n",
    "Which areas (management, colleagues, work environment, salary, work role) have the highest and lowest satisfaction scores?\n",
    "\n",
    "Are there correlations between different satisfaction areas?\n",
    "\n",
    "Combined Effects:\n",
    "\n",
    "How do family status and years of service together influence satisfaction?"
   ]
  }
 ],
 "metadata": {
  "kernelspec": {
   "display_name": "base",
   "language": "python",
   "name": "python3"
  },
  "language_info": {
   "codemirror_mode": {
    "name": "ipython",
    "version": 3
   },
   "file_extension": ".py",
   "mimetype": "text/x-python",
   "name": "python",
   "nbconvert_exporter": "python",
   "pygments_lexer": "ipython3",
   "version": "3.12.7"
  }
 },
 "nbformat": 4,
 "nbformat_minor": 2
}
